{
 "cells": [
  {
   "cell_type": "code",
   "execution_count": 30,
   "id": "d8f041eb",
   "metadata": {},
   "outputs": [],
   "source": [
    "from netgen.occ import *\n",
    "from ngsolve import *\n",
    "from ngsolve.webgui import Draw\n",
    "import netgen.geom2d as geom2d\n",
    "from ngsolve.krylovspace import CGSolver\n",
    "from ngsolve import VTKOutput\n"
   ]
  },
  {
   "cell_type": "code",
   "execution_count": 31,
   "id": "6d165732",
   "metadata": {},
   "outputs": [],
   "source": [
    "# points for mesh vertices\n",
    "geo = geom2d.SplineGeometry()\n",
    "p1 = geo.AppendPoint (0.0, 0.0)\n",
    "p2 = geo.AppendPoint (1.0, 0.0)\n",
    "p3 = geo.AppendPoint (1.0, 0.5)\n",
    "p4 = geo.AppendPoint (1.0, 1.0)\n",
    "p5 = geo.AppendPoint (0.0, 1.0)\n",
    "\n",
    "# segments for the boundaries and bcs labels\n",
    "geo.Append ([\"line\", p1, p2], bc=\"bottom\")\n",
    "geo.Append ([\"line\", p2, p3], bc=\"low_right\")\n",
    "geo.Append ([\"line\", p3, p4], bc=\"top_right\")\n",
    "geo.Append ([\"line\", p4, p5], bc=\"top\")\n",
    "geo.Append ([\"line\", p5, p1], bc=\"left\")\n",
    "\n",
    "# actual mesh generation:\n",
    "# generate a mesh using points\n",
    "mesh = geo.GenerateMesh(maxh=0.05)\n",
    "mesh.Curve(3)\n",
    "\n",
    "# create a NGSolve mesh class \n",
    "mesh = Mesh(mesh)\n",
    "\n",
    "# scene = Draw(mesh)"
   ]
  },
  {
   "cell_type": "code",
   "execution_count": 32,
   "id": "159fb26c",
   "metadata": {},
   "outputs": [],
   "source": [
    "# physical parameters\n",
    "mu = 1.0\n",
    "lam = 1.25\n",
    "\n",
    "# definition of the Piola-Kirchhoff stress tensor\n",
    "def Stress(strain):\n",
    "    return 2.0*mu*strain + lam*Trace(strain)*Id(mesh.dim)   "
   ]
  },
  {
   "cell_type": "code",
   "execution_count": 33,
   "id": "59f7e6dc",
   "metadata": {},
   "outputs": [],
   "source": [
    "# since we want to impose Dirichlet bcs on components of u, we build two scalar H1 FESpaces\n",
    "# and glue them together in a compound FESpace. \n",
    "\n",
    "# polynomial degree of the FESpaces\n",
    "poly_degree = 3\n",
    "\n",
    "# scalar H1 spaces for each component of the displacement\n",
    "fesx = H1(mesh, order=poly_degree, dirichlet=\"low_right\")\n",
    "fesy = H1(mesh, order=poly_degree, dirichlet=\"bottom\")\n",
    "\n",
    "# compound FESpace for the vector valued displacement and GridFunction for the solution\n",
    "fes = FESpace([fesx, fesy])\n",
    "gfu = GridFunction(fes)\n",
    "\n",
    "# solution and test functions: we declare explicitly the components since\n",
    "# the FESpaces are scalar\n",
    "(ux, uy), (vx, vy) = fes.TnT()\n",
    "\n",
    "# u and v are the vector valued CoefficientFunctions\n",
    "u = CoefficientFunction((ux, uy))\n",
    "v = CoefficientFunction((vx, vy))\n",
    "\n",
    "# we need the gradients to compute the strain and the stress tensors.\n",
    "# gradu and gradv are matrix valued CoefficientFunctions\n",
    "gradu = CoefficientFunction( (Grad(ux), Grad(uy)), dims=(mesh.dim,mesh.dim) )\n",
    "gradv = CoefficientFunction( (Grad(vx), Grad(vy)), dims=(mesh.dim,mesh.dim) )\n",
    "\n",
    "# bilinear form a(.,.)\n",
    "with TaskManager():\n",
    "    a = BilinearForm(InnerProduct(Stress(Sym(gradu)), Sym(gradv)).Compile()*dx)\n",
    "    pre = Preconditioner(a, \"bddc\")\n",
    "    a.Assemble()\n",
    "\n",
    "# linear form f(.): we apply a horizontal traction on the left edge\n",
    "force = CF( (-0.2, 0.0) )\n",
    "f = LinearForm(force*v*ds(\"left\")).Assemble()"
   ]
  },
  {
   "cell_type": "code",
   "execution_count": 34,
   "id": "49392d43",
   "metadata": {},
   "outputs": [
    {
     "data": {
      "application/vnd.jupyter.widget-view+json": {
       "model_id": "328bdd17c9fd454ca9ae63b50259378e",
       "version_major": 2,
       "version_minor": 0
      },
      "text/plain": [
       "WebGuiWidget(layout=Layout(height='50vh', width='100%'), value={'gui_settings': {}, 'ngsolve_version': '6.2.25…"
      ]
     },
     "metadata": {},
     "output_type": "display_data"
    },
    {
     "data": {
      "text/plain": [
       "BaseWebGuiScene"
      ]
     },
     "execution_count": 34,
     "metadata": {},
     "output_type": "execute_result"
    }
   ],
   "source": [
    "# solve the linear system\n",
    "inv = CGSolver(a.mat, pre, tol=1e-8)\n",
    "gfu.vec.data = inv * f.vec\n",
    "\n",
    "# plotting the solution on the deformed mesh using the webgui Draw.\n",
    "# We must use CoefficientFunction and separate the components of gfu\n",
    "# since gfu is a vector valued GridFunction from a compound FESpace. \n",
    "# Draw does not accept GridFunction in this case.\n",
    "Draw(CoefficientFunction((gfu.components[0], gfu.components[1])), mesh, deformation=CoefficientFunction((gfu.components[0], gfu.components[1])))"
   ]
  },
  {
   "cell_type": "code",
   "execution_count": 35,
   "id": "beba553d",
   "metadata": {},
   "outputs": [
    {
     "data": {
      "text/plain": [
       "'solution'"
      ]
     },
     "execution_count": 35,
     "metadata": {},
     "output_type": "execute_result"
    }
   ],
   "source": [
    "# export solution to VTK\n",
    "\n",
    "# VTKOutput in NGSolve exports only the linear geometry even if the mesh is curved, \n",
    "# so we use the subdivision option to get a smoother representation of the curved geometry.\n",
    "\n",
    "# Remark: we subdivide the elements only for visualization, not for computations. This means\n",
    "# that the solution is still piecewise polynomial of degree poly_degree on each element, \n",
    "# but in the .vtu file the elements are subdivided in smaller linear elements for a better \n",
    "# visualization of the  curved geometry. This increases the number of points in the .vtu file, \n",
    "# increasing its size, but not affecting the accuracy of the solution.\n",
    "vtk = VTKOutput(\n",
    "    mesh,\n",
    "    coefs=[gfu.components[0], gfu.components[1]],\n",
    "    names=[\"u_x\", \"u_y\"],\n",
    "    filename=\"solution\",\n",
    "    subdivision=3  # or higher for smoother curves\n",
    ")\n",
    "vtk.Do()"
   ]
  },
  {
   "cell_type": "code",
   "execution_count": null,
   "id": "6bcc6bd3",
   "metadata": {},
   "outputs": [],
   "source": []
  }
 ],
 "metadata": {
  "kernelspec": {
   "display_name": "Python 3",
   "language": "python",
   "name": "python3"
  },
  "language_info": {
   "codemirror_mode": {
    "name": "ipython",
    "version": 3
   },
   "file_extension": ".py",
   "mimetype": "text/x-python",
   "name": "python",
   "nbconvert_exporter": "python",
   "pygments_lexer": "ipython3",
   "version": "3.10.12"
  }
 },
 "nbformat": 4,
 "nbformat_minor": 5
}
